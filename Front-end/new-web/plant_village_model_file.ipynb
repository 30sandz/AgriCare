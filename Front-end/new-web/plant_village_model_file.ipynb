{
 "cells": [
  {
   "cell_type": "code",
   "execution_count": null,
   "metadata": {},
   "outputs": [],
   "source": [
    "import splitfolders\n",
    "import tensorflow as tf\n",
    "from tensorflow.keras import Model\n",
    "from keras.applications.mobilenet_v2 import MobileNetV2,preprocess_input\n",
    "from tensorflow.keras.preprocessing.image import ImageDataGenerator,load_img,img_to_array\n",
    "from tensorflow.keras.layers import Dense,GlobalAveragePooling2D,RandomRotation,RandomZoom,RandomFlip\n",
    "from tensorflow.keras.optimizers import Adam\n",
    "import matplotlib.pyplot as plt\n",
    "import cv2\n",
    "import scipy\n",
    "from tensorflow.keras.preprocessing import image_dataset_from_directory \n",
    "import numpy as np\n",
    "import pandas as pd\n",
    "from tensorflow.keras.preprocessing import image"
   ]
  },
  {
   "cell_type": "code",
   "execution_count": null,
   "metadata": {},
   "outputs": [],
   "source": [
    "new_model = tf.keras.models.load_model('plant_village_model.h5')"
   ]
  },
  {
   "cell_type": "code",
   "execution_count": null,
   "metadata": {},
   "outputs": [],
   "source": [
    "img = 'dataset_for_plant_village/test/Blueberry___healthy/0b344c16-456c-4085-aa61-6a1c4cb93632___RS_HL 2538.jpg'\n",
    "a= cv2.imread(img)\n",
    "inverted_img = cv2.cvtColor(a, cv2.COLOR_BGR2RGB)\n",
    "\n",
    "resized_img = cv2.resize(inverted_img,(224,224))\n",
    "plt.imshow(resized_img)"
   ]
  },
  {
   "cell_type": "code",
   "execution_count": null,
   "metadata": {},
   "outputs": [],
   "source": [
    "\n",
    "arr_img = image.img_to_array(resized_img)\n",
    "arr_img = np.expand_dims(arr_img,axis=0)\n",
    "arr_img /= 255.0"
   ]
  },
  {
   "cell_type": "code",
   "execution_count": null,
   "metadata": {},
   "outputs": [],
   "source": [
    "import os\n",
    "labels = os.listdir('dataset_for_plant_village/test/')"
   ]
  },
  {
   "cell_type": "code",
   "execution_count": null,
   "metadata": {},
   "outputs": [],
   "source": [
    "predictions = new_model.predict(arr_img)\n",
    "predicted_class = labels[np.argmax(predictions)]\n",
    "print(predicted_class)"
   ]
  }
 ],
 "metadata": {
  "language_info": {
   "name": "python"
  }
 },
 "nbformat": 4,
 "nbformat_minor": 2
}
